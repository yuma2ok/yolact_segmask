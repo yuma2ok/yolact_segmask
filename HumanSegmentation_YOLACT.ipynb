{
  "nbformat": 4,
  "nbformat_minor": 0,
  "metadata": {
    "colab": {
      "provenance": [],
      "collapsed_sections": [],
      "private_outputs": true,
      "toc_visible": true
    },
    "kernelspec": {
      "name": "python3",
      "display_name": "Python 3"
    },
    "language_info": {
      "name": "python"
    },
    "accelerator": "GPU",
    "gpuClass": "standard"
  },
  "cells": [
    {
      "cell_type": "markdown",
      "source": [
        "#**Human Segmentation using YOLACT**\n",
        "based on: https://github.com/dbolya/yolact　\\\n",
        "forked repo: https://github.com/yuma2ok/yolact_segmask\n"
      ],
      "metadata": {
        "id": "mbcpTMYbGFvp"
      }
    },
    {
      "cell_type": "code",
      "execution_count": null,
      "metadata": {
        "id": "xATQ8V7UGaon",
        "cellView": "form"
      },
      "outputs": [],
      "source": [
        "#@markdown **NVIDIA GPU**\n",
        "import subprocess\n",
        "sub_p_res = subprocess.run(['nvidia-smi', '--query-gpu=name,memory.total,memory.free', '--format=csv,noheader'], stdout=subprocess.PIPE).stdout.decode('utf-8')\n",
        "print(sub_p_res)"
      ]
    },
    {
      "cell_type": "code",
      "source": [
        "#@markdown **Setup Environment**\\\n",
        "#@markdown ライブラリのインストールなど\n",
        "\n",
        "\n",
        "%cd /content/\n",
        "# install requirements\n",
        "!pip install cython\n",
        "!pip install opencv-python pillow pycocotools matplotlib\n",
        "!pip install torchvision==0.5.0\n",
        "!pip install torch==1.4.0\n",
        "\n",
        "# clone the repo\n",
        "!git clone https://github.com/yuma2ok/yolact_segmask.git\n",
        "\n",
        "# activate DCNv2\n",
        "%cd /content/yolact_segmask/external/DCNv2\n",
        "!python setup.py build develop\n",
        "\n",
        "# get pretrained model\n",
        "import gdown\n",
        "\n",
        "!mkdir -p '/content/yolact_segmask/weights'\n",
        "%cd /content/yolact_segmask/weights\n",
        "!gdown 1ZPu1YR2UzGHQD0o1rEqy-j5bmEm3lbyP\n",
        "weights = '/content/yolact_segmask/weights/yolact_plus_resnet50_54_800000.pth'\n",
        "\n",
        "# make in-out img dir\n",
        "inimgdir = '/content/yolact_segmask/in_img_files/'\n",
        "!mkdir -p $inimgdir\n",
        "outimgdir = '/content/yolact_segmask/out_img_files/'\n",
        "!mkdir -p $outimgdir"
      ],
      "metadata": {
        "id": "Me1ZcJ5rIEst",
        "cellView": "form"
      },
      "execution_count": null,
      "outputs": []
    },
    {
      "cell_type": "markdown",
      "source": [
        "# **Image 画像**\n"
      ],
      "metadata": {
        "id": "PUgOKDJ4S0dc"
      }
    },
    {
      "cell_type": "markdown",
      "source": [
        "### **Setting**\n",
        "セグメントしたい画像をフォルダ\"in_img_files\"に入れる"
      ],
      "metadata": {
        "id": "VVX1lygNTQ6Q"
      }
    },
    {
      "cell_type": "code",
      "source": [
        "# @markdown **入力画像を表示**\n",
        "\n",
        "import os\n",
        "import re\n",
        "import matplotlib.pyplot as plt\n",
        "import cv2\n",
        "\n",
        "patternStr = '.+\\.(jpg|jpeg|png)'\n",
        "pattern = re.compile(patternStr)\n",
        "for item in os.listdir(inimgdir):\n",
        "    result = pattern.match(item)\n",
        "    if result:\n",
        "        file = os.path.join(inimgdir,item)\n",
        "        print(file)\n",
        "        img = cv2.cvtColor(cv2.imread(file), cv2.COLOR_BGR2RGB)\n",
        "        plt.figure(figsize=(10, 10))\n",
        "        plt.imshow(img)\n",
        "        plt.show()"
      ],
      "metadata": {
        "id": "eoUXmHOCKawS",
        "cellView": "form"
      },
      "execution_count": null,
      "outputs": []
    },
    {
      "cell_type": "markdown",
      "source": [
        "### **Run**\n",
        "eval.pyはフォーク元のレポジトリの実行ファイル\\\n",
        "eval_human.pyは人物のみの白黒マスク画像を返す実行ファイルです"
      ],
      "metadata": {
        "id": "qOf4WLjbBtun"
      }
    },
    {
      "cell_type": "code",
      "source": [
        "#　@markdown **Run eval.py**\n",
        "%cd /content/yolact_segmask\n",
        "\n",
        "!python eval.py --trained_model=weights/yolact_plus_resnet50_54_800000.pth\\\n",
        "                --score_threshold=0.15\\\n",
        "                --top_k=15\\\n",
        "                --display_bboxes=False\\\n",
        "                --display_text=False\\\n",
        "                --display_scores=False\\\n",
        "                --images=in_img_files/:out_img_files/"
      ],
      "metadata": {
        "id": "dej3OZOFLwti",
        "cellView": "form"
      },
      "execution_count": null,
      "outputs": []
    },
    {
      "cell_type": "code",
      "source": [
        "#　@markdown **Run eval_human.py**\\\n",
        "# @markdown 白黒人物セグメンテーションを実行\n",
        "\n",
        "%cd /content/yolact_segmask\n",
        "\n",
        "!rm -rf $outimgdir\n",
        "!mkdir -p $outimgdir\n",
        "\n",
        "!python eval_human.py --trained_model=weights/yolact_plus_resnet50_54_800000.pth\\\n",
        "                --score_threshold=0.15\\\n",
        "                --top_k=15\\\n",
        "                --display_bboxes=False\\\n",
        "                --display_text=False\\\n",
        "                --display_scores=False\\\n",
        "                --images=in_img_files/:out_img_files/"
      ],
      "metadata": {
        "id": "1_3_OgSh6pFg",
        "cellView": "form"
      },
      "execution_count": null,
      "outputs": []
    },
    {
      "cell_type": "code",
      "source": [
        "# @markdown **白黒反転**\\\n",
        "# @markdown 反転したい時のみ実行\\\n",
        "# @markdown 画像ファイルのパスを入力\n",
        "\n",
        "import cv2\n",
        "%cd /content/yolact_segmask/\n",
        "\n",
        "\n",
        "filepath='/content/yolact_segmask/out_img_files/test.png' #@param {type:\"string\"}\n",
        "img=cv2.imread(filepath, cv2.IMREAD_GRAYSCALE)\n",
        "img=255-img\n",
        "cv2.imwrite(filepath, img)"
      ],
      "metadata": {
        "cellView": "form",
        "id": "DZKzOqMvMSaL"
      },
      "execution_count": null,
      "outputs": []
    },
    {
      "cell_type": "code",
      "source": [
        "# @markdown **出力画像を表示**\n",
        "\n",
        "import os\n",
        "import re\n",
        "import matplotlib.pyplot as plt\n",
        "import cv2\n",
        "\n",
        "patternStr = '.+\\.(jpg|jpeg|png)'\n",
        "pattern = re.compile(patternStr)\n",
        "for item in os.listdir(outimgdir):\n",
        "    result = pattern.match(item)\n",
        "    if result:\n",
        "        file = os.path.join(outimgdir,item)\n",
        "        print(file)\n",
        "        img = cv2.cvtColor(cv2.imread(file), cv2.COLOR_BGR2RGB)\n",
        "        plt.figure(figsize=(10, 10))\n",
        "        plt.imshow(img)\n",
        "        plt.show()"
      ],
      "metadata": {
        "id": "_vvWTWwQLhDG",
        "cellView": "form"
      },
      "execution_count": null,
      "outputs": []
    },
    {
      "cell_type": "markdown",
      "source": [
        "# **Video 動画**\n",
        "**処理の流れ**\n",
        "1. 動画をフレームごとの静止画に変換\n",
        "2. 50フレームごとに分割(エラー対策)\n",
        "3. 全ての静止画のマスクを作成\n",
        "4. 静止画を繋げて動画にする"
      ],
      "metadata": {
        "id": "N-r79Zf2BWVY"
      }
    },
    {
      "cell_type": "markdown",
      "source": [
        "### **Setting**\n",
        "セグメントしたい動画をyolact_segmask内に入れる"
      ],
      "metadata": {
        "id": "4ngLc5MtB1yu"
      }
    },
    {
      "cell_type": "code",
      "source": [
        "# @markdown **フレーム毎の静止画を作成**\\\n",
        "# @markdown vid_frame_filesへ出力される\n",
        "\n",
        "import cv2\n",
        "import os\n",
        "%cd /content/yolact_segmask\n",
        "\n",
        "videoimgdir = '/content/yolact_segmask/vid_frame_files/'\n",
        "!rm -rf $videoimgdir\n",
        "!mkdir -p $videoimgdir\n",
        "\n",
        "def save_all_frames(video_path, dir_path, ext='jpg'):\n",
        "    cap = cv2.VideoCapture(video_path)\n",
        "\n",
        "    if not cap.isOpened():\n",
        "        return\n",
        "\n",
        "    digit = len(str(int(cap.get(cv2.CAP_PROP_FRAME_COUNT))))\n",
        "\n",
        "    n = 0\n",
        "\n",
        "    while True:\n",
        "        ret, frame = cap.read()\n",
        "        if ret:\n",
        "            cv2.imwrite('{}{}.{}'.format(videoimgdir, str(n).zfill(digit), ext), frame)\n",
        "            n += 1\n",
        "        else:\n",
        "            return\n",
        "\n",
        "input_video_path = '/content/yolact_segmask/seg.mp4' #@param {type:\"string\"}\n",
        "save_all_frames(input_video_path, videoimgdir, 'png')"
      ],
      "metadata": {
        "id": "_qSrUFKuQFGa",
        "cellView": "form"
      },
      "execution_count": null,
      "outputs": []
    },
    {
      "cell_type": "code",
      "source": [
        "# @markdown **vid_frame_files内の静止画を50枚ずつに分割**\n",
        "import os\n",
        "import shutil\n",
        "frame_num = sum(os.path.isfile(os.path.join(videoimgdir, name)) for name in os.listdir(videoimgdir))\n",
        "print(\"file num: {}\".format(frame_num))\n",
        "dir_num = frame_num // 50 + 1\n",
        "print(\"dir num: {}\".format(dir_num))\n",
        "for i in range(1, dir_num+1):\n",
        "  folder_path = videoimgdir + \"_\" + str(i*50)\n",
        "  if(os.path.exists(folder_path)):\n",
        "    shutil.rmtree(folder_path)\n",
        "  os.mkdir(folder_path)\n",
        "%cd /content/yolact_segmask/vid_frame_files\n",
        "digit = len(str(frame_num))\n",
        "cnt = 0\n",
        "for i in range(frame_num):\n",
        "  if(i % 50 == 0):\n",
        "    cnt += 1\n",
        "  filepath = \"{}.png\".format(str(i).zfill(digit))\n",
        "  dirpath = videoimgdir + \"_\" + str(cnt*50) + \"/\" + filepath\n",
        "  shutil.move(filepath, dirpath)"
      ],
      "metadata": {
        "id": "E08Wk9iWCJvU",
        "cellView": "form"
      },
      "execution_count": null,
      "outputs": []
    },
    {
      "cell_type": "markdown",
      "source": [
        "### **Run**\n",
        "セグメンテーションの実行"
      ],
      "metadata": {
        "id": "-MOdWsZuCv39"
      }
    },
    {
      "cell_type": "code",
      "source": [
        "# @markdown **Run eval_human.py**\\\n",
        "# @markdown 人物の白黒セグメンテーションを実行\\\n",
        "# @markdown vid_frame_outへ出力される\n",
        "\n",
        "%cd /content/yolact_segmask\n",
        "\n",
        "vidframeout = \"/content/yolact_segmask/vid_frame_out\"\n",
        "\n",
        "!rm -rf $vidframeout\n",
        "!mkdir -p $vidframeout\n",
        "\n",
        "for i in range(1, dir_num+1):\n",
        "  folder_path = videoimgdir + \"_\" + str(i*50)\n",
        "  !echo $i\n",
        "  !python eval_human.py --trained_model=weights/yolact_plus_resnet50_54_800000.pth\\\n",
        "                --score_threshold=0.15\\\n",
        "                --top_k=15\\\n",
        "                --display_bboxes=False\\\n",
        "                --display_text=False\\\n",
        "                --display_scores=False\\\n",
        "                --images=$folder_path/:$vidframeout/"
      ],
      "metadata": {
        "id": "JP-nEiw_0WrL",
        "cellView": "form"
      },
      "execution_count": null,
      "outputs": []
    },
    {
      "cell_type": "code",
      "source": [
        "# @markdown **vid_frame_outの白黒反転**\\\n",
        "# @markdown 反転したい時のみ実行\n",
        "import cv2\n",
        "%cd /content/yolact_segmask/vid_frame_out/\n",
        "digit = len(str(frame_num))\n",
        "for i in range(frame_num):\n",
        "  filename = \"{}.png\".format(str(i).zfill(digit))\n",
        "  img=cv2.imread(filename, cv2.IMREAD_GRAYSCALE)\n",
        "  img=255-img\n",
        "  cv2.imwrite(filename,img)\n",
        "  \n",
        "print(\"done\")"
      ],
      "metadata": {
        "id": "EQ9R9P9NObLf",
        "cellView": "form"
      },
      "execution_count": null,
      "outputs": []
    },
    {
      "cell_type": "code",
      "source": [
        "# @markdown **出力画像を動画に変換**\\\n",
        "# @markdown segmented_videoへ出力される\n",
        "vidoutdir = '/content/yolact_segmask/segmented_video/'\n",
        "!rm -rf $vidoutdir\n",
        "!mkdir -p $vidoutdir\n",
        "vidpath = vidoutdir + 'seg_out.avi'\n",
        "\n",
        "digit = len(str(frame_num))\n",
        "if(digit == 1):\n",
        "  imgpath = 'vid_frame_out/%01d.png'\n",
        "elif(digit == 2):\n",
        "  imgpath = 'vid_frame_out/%02d.png'\n",
        "elif(digit == 3):\n",
        "  imgpath = 'vid_frame_out/%03d.png'\n",
        "else:\n",
        "  imgpath = 'vid_frame_out/%04d.png'\n",
        "\n",
        "%cd /content/yolact_segmask\n",
        "!ffmpeg -f image2 -i $imgpath $vidpath\n",
        "%cd $vidoutdir\n",
        "!ffmpeg -i seg_out.avi seg_out.mp4\n",
        "\n",
        "print(\"done\")"
      ],
      "metadata": {
        "cellView": "form",
        "id": "_ZqEvGrD4jWV"
      },
      "execution_count": null,
      "outputs": []
    }
  ]
}